{
 "cells": [
  {
   "cell_type": "code",
   "execution_count": 35,
   "metadata": {},
   "outputs": [],
   "source": [
    "import pandas as pd\n",
    "import numpy as np\n",
    "movieData = pd.read_excel('Cornell All Movies.xlsx', header = None)\n",
    "titleData = pd.read_excel('movie_titles_metadata.xlsx', header = None)\n",
    "movieData = movieData.iloc[:,1:5]\n",
    "titleData = titleData.iloc[:,0:3]\n",
    "#merge(x=dataset,y=actor_dataset,by=c(\"Character\",\"Movie\"),all=TRUE)"
   ]
  },
  {
   "cell_type": "code",
   "execution_count": 36,
   "metadata": {},
   "outputs": [
    {
     "name": "stdout",
     "output_type": "stream",
     "text": [
      "     0                             1     2\n",
      "0  m0    10 things i hate about you   1999\n",
      "1  m1    1492: conquest of paradise   1992\n",
      "2  m2                    15 minutes   2001\n",
      "3  m3         2001: a space odyssey   1968\n",
      "4  m4                       48 hrs.   1982\n",
      "      1     2          3              4\n",
      "0   u0    m0     BIANCA    They do not!\n",
      "1   u2    m0    CAMERON     They do to!\n",
      "2   u0    m0     BIANCA      I hope so.\n",
      "3   u2    m0    CAMERON       She okay?\n",
      "4   u0    m0     BIANCA       Let's go.\n"
     ]
    }
   ],
   "source": [
    "print(titleData.head())\n",
    "print(movieData.head())"
   ]
  },
  {
   "cell_type": "code",
   "execution_count": 72,
   "metadata": {
    "scrolled": true
   },
   "outputs": [],
   "source": [
    "titleData.columns = ['Movie','Title','Year']\n",
    "movieData.columns = ['CharacterID','Movie','Character','Dialogue']\n",
    "def toProper(name):\n",
    "    cleanString = name.title()\n",
    "    return(cleanString)\n",
    "\n",
    "movieData['Character'] = np.vectorize(toProper)(movieData['Character'])"
   ]
  },
  {
   "cell_type": "code",
   "execution_count": 73,
   "metadata": {},
   "outputs": [
    {
     "name": "stdout",
     "output_type": "stream",
     "text": [
      "  Movie                         Title  Year\n",
      "0   m0    10 things i hate about you   1999\n",
      "1   m1    1492: conquest of paradise   1992\n",
      "2   m2                    15 minutes   2001\n",
      "3   m3         2001: a space odyssey   1968\n",
      "4   m4                       48 hrs.   1982\n",
      "  CharacterID Movie  Character       Dialogue\n",
      "0         u0    m0     Bianca    They do not!\n",
      "1         u2    m0    Cameron     They do to!\n",
      "2         u0    m0     Bianca      I hope so.\n",
      "3         u2    m0    Cameron       She okay?\n",
      "4         u0    m0     Bianca       Let's go.\n",
      "(304713, 4)\n"
     ]
    }
   ],
   "source": [
    "\n",
    "print(titleData.head())\n",
    "print(movieData.head())\n",
    "print(movieData.shape)"
   ]
  },
  {
   "cell_type": "code",
   "execution_count": 74,
   "metadata": {},
   "outputs": [
    {
     "name": "stdout",
     "output_type": "stream",
     "text": [
      "<class 'str'>\n",
      "<class 'str'>\n"
     ]
    }
   ],
   "source": [
    "print(type(movieData['Movie'][0]))\n",
    "print(type(titleData['Movie'][0]))"
   ]
  },
  {
   "cell_type": "code",
   "execution_count": 76,
   "metadata": {},
   "outputs": [
    {
     "name": "stdout",
     "output_type": "stream",
     "text": [
      "  CharacterID Movie  Character       Dialogue Title Year\n",
      "0         u0    m0     Bianca    They do not!   NaN  NaN\n",
      "1         u2    m0    Cameron     They do to!   NaN  NaN\n",
      "2         u0    m0     Bianca      I hope so.   NaN  NaN\n",
      "3         u2    m0    Cameron       She okay?   NaN  NaN\n",
      "4         u0    m0     Bianca       Let's go.   NaN  NaN\n",
      "(304713, 6)\n"
     ]
    }
   ],
   "source": [
    "mapped_titles = movieData.merge(titleData, on = 'Movie', how = 'left')\n",
    "print(mapped_titles.head())\n",
    "print(mapped_titles.shape)"
   ]
  }
 ],
 "metadata": {
  "kernelspec": {
   "display_name": "Python 3",
   "language": "python",
   "name": "python3"
  },
  "language_info": {
   "codemirror_mode": {
    "name": "ipython",
    "version": 3
   },
   "file_extension": ".py",
   "mimetype": "text/x-python",
   "name": "python",
   "nbconvert_exporter": "python",
   "pygments_lexer": "ipython3",
   "version": "3.7.3"
  }
 },
 "nbformat": 4,
 "nbformat_minor": 2
}
